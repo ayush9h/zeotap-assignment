{
 "cells": [
  {
   "cell_type": "code",
   "execution_count": 8,
   "metadata": {},
   "outputs": [],
   "source": [
    "import pandas as pd\n",
    "from sklearn.metrics.pairwise import cosine_similarity\n",
    "from sklearn.preprocessing import StandardScaler\n",
    "from sklearn.preprocessing import LabelEncoder"
   ]
  },
  {
   "cell_type": "code",
   "execution_count": 9,
   "metadata": {},
   "outputs": [],
   "source": [
    "customers = pd.read_csv('./data/Customers.csv')\n",
    "transactions = pd.read_csv('./data/Transactions.csv')\n",
    "products = pd.read_csv('./data/Products.csv')\n",
    "\n",
    "customer_transactions = pd.merge(transactions, customers, on='CustomerID').merge(products, on='ProductID')"
   ]
  },
  {
   "cell_type": "code",
   "execution_count": 10,
   "metadata": {},
   "outputs": [],
   "source": [
    "customer_summary = customer_transactions.groupby(['CustomerID']).agg(\n",
    "    total_spent=('TotalValue', 'sum'),\n",
    "    total_transactions=('TransactionID', 'nunique'),\n",
    "    avg_transaction_value=('TotalValue', 'mean')\n",
    ").reset_index()\n",
    "\n",
    "label_encoder = LabelEncoder()\n",
    "customers['Region'] = label_encoder.fit_transform(customers['Region'])\n",
    "\n",
    "customer_data = pd.merge(customer_summary, customers[['CustomerID', 'Region']], on='CustomerID')\n",
    "\n",
    "scaler = StandardScaler()\n",
    "scaled_features = scaler.fit_transform(customer_data[['total_spent', 'total_transactions', 'avg_transaction_value', 'Region']])\n",
    "\n",
    "similarity_matrix = cosine_similarity(scaled_features)"
   ]
  },
  {
   "cell_type": "code",
   "execution_count": 11,
   "metadata": {},
   "outputs": [],
   "source": [
    "lookalikes = {}\n",
    "for i in range(20): \n",
    "    customer_id = f'C{i+1:04d}'\n",
    "    customer_index = customer_data[customer_data['CustomerID'] == customer_id].index[0]\n",
    "    similar_customers = list(enumerate(similarity_matrix[customer_index]))\n",
    "    similar_customers = sorted(similar_customers, key=lambda x: x[1], reverse=True)[1:4]\n",
    "    \n",
    "    lookalikes[customer_id] = [(customer_data.iloc[i[0]]['CustomerID'], i[1]) for i in similar_customers]"
   ]
  },
  {
   "cell_type": "code",
   "execution_count": 12,
   "metadata": {},
   "outputs": [],
   "source": [
    "lookalike_df = pd.DataFrame([(key, val[0][0], val[0][1], val[1][0], val[1][1], val[2][0], val[2][1]) for key, val in lookalikes.items()],\n",
    "                            columns=['CustomerID', 'Lookalike1', 'Score1', 'Lookalike2', 'Score2', 'Lookalike3', 'Score3'])\n",
    "\n",
    "lookalike_df.to_csv('Lookalike.csv', index=False)"
   ]
  }
 ],
 "metadata": {
  "kernelspec": {
   "display_name": ".venv",
   "language": "python",
   "name": "python3"
  },
  "language_info": {
   "codemirror_mode": {
    "name": "ipython",
    "version": 3
   },
   "file_extension": ".py",
   "mimetype": "text/x-python",
   "name": "python",
   "nbconvert_exporter": "python",
   "pygments_lexer": "ipython3",
   "version": "3.10.6"
  }
 },
 "nbformat": 4,
 "nbformat_minor": 2
}
